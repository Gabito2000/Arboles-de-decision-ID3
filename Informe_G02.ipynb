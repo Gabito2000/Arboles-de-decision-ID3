{
 "cells": [
  {
   "cell_type": "markdown",
   "metadata": {},
   "source": [
    "# Entrega N - Título\n",
    "\n",
    "### Grupo M:\n",
    "     - D. Garat  C.I...\n",
    "     - G. Moncecchi C.I...\n",
    "\n"
   ]
  },
  {
   "cell_type": "markdown",
   "metadata": {},
   "source": [
    "## 1. Objetivo"
   ]
  },
  {
   "cell_type": "markdown",
   "metadata": {},
   "source": [
    "El objetivo de esta tarea es construir un jugador/clasificador/... utilizando... . \n",
    "\n",
    "El éxito del aprendizaje se mide a través de...\n"
   ]
  },
  {
   "cell_type": "markdown",
   "metadata": {},
   "source": [
    "## 2. Diseño"
   ]
  },
  {
   "cell_type": "markdown",
   "metadata": {},
   "source": [
    "En esta sección se deben presentar las decisiones tomadas a la hora de implementar el jugador, clasificador, etc.\n"
   ]
  },
  {
   "cell_type": "markdown",
   "metadata": {},
   "source": [
    "## 2.1 Preprocesamiento de datos\n",
    "- Decisiones sobre tratamiento de datos numéricos, faltantes, etc. antes de la aplicación de el algoritmo\n",
    "- Selección/generación de atributos\n",
    "\n",
    "\n",
    "## 2.2 Algoritmo\n",
    "Extensiones del algoritmo original necesarias para la resolución del problema: tratamiento de atributos faltantes, numéricos, etc. (si es el propio algoritmo el que lo maneja), implementaciones adicionales necesarias para manejar ensambles de clasificadores, etc.\n",
    "\n",
    "\n",
    "## 2.3 Evaluación\n",
    "- Qué conjunto de métricas se utilizan para la evaluación de la solución y su definición\n",
    "- Sobre qué conjunto(s) se realiza el entrenamiento, ajuste de la solución, evaluación, etc. Explicar cómo se construyen estos conjuntos."
   ]
  },
  {
   "cell_type": "markdown",
   "metadata": {},
   "source": [
    "## 3. Experimentación"
   ]
  },
  {
   "cell_type": "code",
   "execution_count": 2,
   "metadata": {},
   "outputs": [
    {
     "data": {
      "image/png": "[encoded data removed]",
      "text/plain": [
       "<Figure size 432x288 with 1 Axes>"
      ]
     },
     "metadata": {
      "needs_background": "light"
     },
     "output_type": "display_data"
    },
    {
     "name": "stdout",
     "output_type": "stream",
     "text": [
      "############DecisionTreeClassifier#############\n",
      "F1 -> 1.0\n",
      "Accuracy -> 1.0\n",
      "Precision -> 1.0\n",
      "Recall -> 1.0\n"
     ]
    }
   ],
   "source": [
    "import pandas as pd\n",
    "import matplotlib.pyplot as plt\n",
    "import statistics as stat\n",
    "import seaborn as sns\n",
    "from imblearn.over_sampling import RandomOverSampler as oversampler\n",
    "from sklearn.model_selection import train_test_split\n",
    "from sklearn import tree\n",
    "from sklearn.metrics import f1_score as f1\n",
    "from sklearn.metrics import accuracy_score as acc\n",
    "from sklearn.metrics import precision_score as precision\n",
    "from sklearn.metrics import recall_score as recall\n",
    "\n",
    "#Carga de datos y prueba con sicklearn:\n",
    "\n",
    "df = pd.read_csv(\"./healthcare-dataset-stroke-data.csv\")\n",
    "\n",
    "\"\"\"\"\n",
    "sns.countplot(data = df, x=\"gender\")\n",
    "plt.show()\n",
    "sns.countplot(data = df, x=\"work_type\")\n",
    "plt.show()\n",
    "sns.countplot(data = df, x=\"Residence_type\")\n",
    "plt.show()\n",
    "sns.countplot(data = df, x=\"smoking_status\")\n",
    "plt.show()\n",
    "\"\"\"\n",
    "\n",
    "media = stat.median(df['bmi'])\n",
    "df['bmi'] = df['bmi'].replace(['N/A'], [media])\n",
    "\n",
    "df['bmi'] = df['bmi'].fillna(media)\n",
    "df['ever_married'] = df['ever_married'].replace(['Yes', 'No'], [1,0])\n",
    "df['gender'] = df['gender'].replace(['Male', 'Female', 'Other'], [0,1,2])\n",
    "df['work_type'] = df['work_type'].replace(['Private', 'Self-employed', 'Govt_job', 'children', 'Never_worked'], [0,1,2,3,4])\n",
    "df['Residence_type'] = df['Residence_type'].replace(['Urban', 'Rural'], [1,0])\n",
    "df['smoking_status'] = df['smoking_status'].replace(['formerly smoked', 'never smoked', 'smokes', 'Unknown'], [0,1,2,3])\n",
    "\n",
    "ros = oversampler(random_state=42)\n",
    "X = df[[\"gender\", \"age\", \"hypertension\", \"heart_disease\", \"ever_married\", \"work_type\", \"Residence_type\",\n",
    "        \"avg_glucose_level\", \"bmi\", \"smoking_status\"]]\n",
    "Y = df.stroke\n",
    "X, Y = ros.fit_resample(X,Y)\n",
    "\n",
    "df = X\n",
    "df[\"stroke\"] = Y\n",
    "\n",
    "sns.countplot(data = df, x=\"stroke\")\n",
    "plt.show()\n",
    "\n",
    "\n",
    "#1022 test size porque es el 20%, 5110 datos en total\n",
    "X_train, X_test, Y_train, Y_test = train_test_split(X, Y, test_size=1022, random_state=42)\n",
    "\n",
    "\n",
    "dt_clf = tree.DecisionTreeClassifier()\n",
    "dt_clf = dt_clf.fit(X_train, Y_train)\n",
    "\n",
    "Y_pred = dt_clf.predict (X_test)\n",
    "\n",
    "print(\"############DecisionTreeClassifier#############\")\n",
    "print(\"F1 -> \"+str(f1 (Y_test, Y_pred)))\n",
    "print(\"Accuracy -> \"+str(acc (Y_test, Y_pred)))\n",
    "print(\"Precision -> \"+str(precision (Y_test, Y_pred)))\n",
    "print(\"Recall -> \"+str(recall (Y_test, Y_pred)))\n",
    "\n"
   ]
  },
  {
   "cell_type": "code",
   "execution_count": 8,
   "metadata": {},
   "outputs": [],
   "source": [
    "import g02_l2_core\n",
    "import numpy as np\n",
    "dfGlobal = df.copy()\n",
    "#del dfGlobal[\"id\"] #el id no puede ir ya que hace sobreajuste\n",
    "\n",
    "\n",
    "#1022 test size porque es el 20%, 5110 datos en total\n",
    "df_train, df_test = train_test_split(dfGlobal, test_size=0.2, random_state=42)"
   ]
  },
  {
   "cell_type": "code",
   "execution_count": 9,
   "metadata": {},
   "outputs": [
    {
     "name": "stdout",
     "output_type": "stream",
     "text": [
      "F1 -> 0.8127074442863917\n",
      "Accuracy -> 0.7969151670951157\n",
      "Precision -> 0.752414398595259\n",
      "Recall -> 0.8835051546391752\n"
     ]
    }
   ],
   "source": [
    "#Prueba con 7 niveles\n",
    "maxTreeLevels = 7\n",
    "ID3_tree = g02_l2_core.ID3_DecisionTree(df_train, maxTreeLevels)\n",
    "g02_l2_core.SaveId3Tree(f\"G02_ID3_tree_{maxTreeLevels}.txt\", ID3_tree)\n",
    "\n",
    "predict = []\n",
    "\n",
    "for index, row in df_test.iterrows():\n",
    "        eval = g02_l2_core.EvaluateTable(row, ID3_tree)\n",
    "        predict.append(eval)\n",
    "\n",
    "pred = np.array(predict, dtype=int)\n",
    "print(\"Accuracy -> \"+str(acc (df_test['stroke'].values, predict)))\n",
    "print(\"Precision -> \"+str(precision (df_test['stroke'].values, predict)))\n",
    "print(\"Recall -> \"+str(recall (df_test['stroke'].values, predict)))\n",
    "print(\"F1 -> \"+str(f1 (df_test['stroke'].values, pred)))\n",
    "\n"
   ]
  },
  {
   "cell_type": "code",
   "execution_count": 10,
   "metadata": {},
   "outputs": [
    {
     "name": "stdout",
     "output_type": "stream",
     "text": [
      "F1 -> 0.8614232209737828\n",
      "Accuracy -> 0.847814910025707\n",
      "Precision -> 0.7890222984562607\n",
      "Recall -> 0.9484536082474226\n"
     ]
    }
   ],
   "source": [
    "#Prueba con 10 niveles\n",
    "maxTreeLevels = 10\n",
    "ID3_tree = g02_l2_core.ID3_DecisionTree(df_train, maxTreeLevels)\n",
    "g02_l2_core.SaveId3Tree(f\"G02_ID3_tree_{maxTreeLevels}.txt\", ID3_tree)\n",
    "\n",
    "predict = []\n",
    "\n",
    "for index, row in df_test.iterrows():\n",
    "        eval = g02_l2_core.EvaluateTable(row, ID3_tree)\n",
    "        predict.append(eval)\n",
    "\n",
    "pred = np.array(predict, dtype=int)\n",
    "print(\"Accuracy -> \"+str(acc (df_test['stroke'].values, predict)))\n",
    "print(\"Precision -> \"+str(precision (df_test['stroke'].values, predict)))\n",
    "print(\"Recall -> \"+str(recall (df_test['stroke'].values, predict)))\n",
    "print(\"F1 -> \"+str(f1 (df_test['stroke'].values, pred)))"
   ]
  },
  {
   "cell_type": "markdown",
   "metadata": {},
   "source": [
    "- Presentar los distintos experimentos que se realizan y los resultados que se obtienen.\n",
    "\n",
    "- La información de los resultados se presenta en tablas y en gráficos, de acuerdo a su naturaleza. Por ejemplo:\n",
    "\n",
    "_En la gráfica 1, se observa el error cuadrático total del conjunto de entrenamiento a medida que pasan los juegos para el oponente X_"
   ]
  },
  {
   "cell_type": "code",
   "execution_count": 2,
   "metadata": {},
   "outputs": [
    {
     "data": {
      "text/plain": [
       "[<matplotlib.lines.Line2D at 0x1137b3390>]"
      ]
     },
     "execution_count": 2,
     "metadata": {},
     "output_type": "execute_result"
    },
    {
     "data": {
      "image/png": "[encoded data removed]",
      "text/plain": [
       "<Figure size 432x288 with 1 Axes>"
      ]
     },
     "metadata": {
      "needs_background": "light"
     },
     "output_type": "display_data"
    }
   ],
   "source": [
    "import matplotlib.pyplot\n",
    "matplotlib.pyplot.plot(range(0,100), [2**-(x/10) for x in range(0,100)])"
   ]
  },
  {
   "cell_type": "markdown",
   "metadata": {},
   "source": [
    "\n",
    "- Debe existir alguna instancia donde se compile la información relevante de los experimentos de forma de poder comparar fácilmente los distintos experimentos. Por ejemplo:\n",
    "\n",
    "_En la tabla 1, se presentan los distintos resultados contra el jugador aleatorio, para los distintos valores de $\\alpha$ elegidos. El mejor resultado se obtiene para $\\alpha=0.05$, lo que prueba que la estrategia..._\n",
    "\n",
    "<table>\n",
    "  <tr>\n",
    "    <th>$\\alpha$</th>\n",
    "    <th>...</th>\n",
    "    <th>Turnos</th>\n",
    "    <th>Error</th>\n",
    "  </tr>\n",
    "  <tr>\n",
    "    <td>0.001</td>\n",
    "    <td>...</td>\n",
    "    <td>100</td>\n",
    "    <td>0.991</td>\n",
    "  </tr>    \n",
    "  <tr>\n",
    "    <td>0.005</td>\n",
    "    <td>...</td>\n",
    "    <td>100</td>\n",
    "    <td>0.987</td>\n",
    "  </tr>\n",
    "  <tr style=\"font-weight:bold\">\n",
    "    <td>0.05</td>\n",
    "    <td>...</td>\n",
    "    <td>100</td>\n",
    "    <td>0.329</td>\n",
    "  </tr>\n",
    "  <tr>\n",
    "    <td>0.5</td>\n",
    "    <td>...</td>\n",
    "    <td>100</td>\n",
    "    <td>0.564</td>\n",
    "  </tr>    \n",
    "    <caption>Tabla 1 - Entrenamiento del jugador X para distintos valores de $\\alpha$</caption>\n",
    "</table>\n"
   ]
  },
  {
   "cell_type": "markdown",
   "metadata": {},
   "source": [
    "## 4. Conclusión"
   ]
  },
  {
   "cell_type": "markdown",
   "metadata": {},
   "source": [
    "Una breve conclusión del trabajo realizado. Por ejemplo: \n",
    "- ¿cuándo se dieron los mejores resultados del jugador?\n",
    "- ¿encuentra alguna relación con los parámetros / oponentes/ atributos elegidos?\n",
    "- ¿cómo mejoraría los resultados?"
   ]
  },
  {
   "cell_type": "code",
   "execution_count": null,
   "metadata": {},
   "outputs": [],
   "source": []
  },
  {
   "cell_type": "code",
   "execution_count": null,
   "metadata": {},
   "outputs": [],
   "source": []
  }
 ],
 "metadata": {
  "kernelspec": {
   "display_name": "Python 3.10.6 64-bit",
   "language": "python",
   "name": "python3"
  },
  "language_info": {
   "codemirror_mode": {
    "name": "ipython",
    "version": 3
   },
   "file_extension": ".py",
   "mimetype": "text/x-python",
   "name": "python",
   "nbconvert_exporter": "python",
   "pygments_lexer": "ipython3",
   "version": "3.10.6"
  },
  "vscode": {
   "interpreter": {
    "hash": "b91e75ecf58b5a6634cf00da16aa84c65e4ecc8652670cacf5a34b50a804f10a"
   }
  }
 },
 "nbformat": 4,
 "nbformat_minor": 4
}
