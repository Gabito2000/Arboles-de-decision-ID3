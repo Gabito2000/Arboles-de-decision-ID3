{
 "cells": [
  {
   "cell_type": "markdown",
   "metadata": {},
   "source": [
    "# Entrega - Tarea 2\n",
    "\n",
    "### Grupo 2:\n",
    "     - Darío Rosa 3813883-9\n",
    "     - Diego Aleman 4952936-0\n",
    "     - Gabriel Kryger 4933558-9\n",
    "\n"
   ]
  },
  {
   "cell_type": "markdown",
   "metadata": {},
   "source": [
    "## 1. Objetivo"
   ]
  },
  {
   "cell_type": "markdown",
   "metadata": {},
   "source": [
    "El objetivo de esta tarea es construir un clasificador utilizando el Algoritmo ID3 en su variante que permite el manejo de atributos continuos.\n",
    "Para medir el éxito del aprendizaje vamos a utilizar las medidas accuracy, precision, recall y medida F1, utilizando para su cálculo la librería sklearn. "
   ]
  },
  {
   "cell_type": "markdown",
   "metadata": {},
   "source": [
    "## 2. Diseño"
   ]
  },
  {
   "cell_type": "markdown",
   "metadata": {},
   "source": [
    "TODO: \n",
    "1. hablar del uso de id\n",
    "2. justificar porque no creamos mas columnas en los valores discretos(no es necesario ya que en este caso tenemos control sobre el algoritmo y los valores son tomados como valores independientes)\n",
    "3. explicar las deciciones tomadas al momento de falta de arbol con el valor de un atributo, etc\n",
    "\n",
    "\n",
    "En esta sección se deben presentar las decisiones tomadas a la hora de implementar el jugador, clasificador, etc.\n"
   ]
  },
  {
   "cell_type": "markdown",
   "metadata": {},
   "source": [
    "## 2.1 Preprocesamiento de datos\n",
    "- Decisiones sobre tratamiento de datos numéricos, faltantes, etc. antes de la aplicación de el algoritmo\n",
    "- Selección/generación de atributos\n",
    "\n",
    "\n",
    "## 2.2 Algoritmo\n",
    "Extensiones del algoritmo original necesarias para la resolución del problema: tratamiento de atributos faltantes, numéricos, etc. (si es el propio algoritmo el que lo maneja), implementaciones adicionales necesarias para manejar ensambles de clasificadores, etc.\n",
    "\n",
    "\n",
    "## 2.3 Evaluación\n",
    "- Qué conjunto de métricas se utilizan para la evaluación de la solución y su definición\n",
    "- Sobre qué conjunto(s) se realiza el entrenamiento, ajuste de la solución, evaluación, etc. Explicar cómo se construyen estos conjuntos."
   ]
  },
  {
   "cell_type": "markdown",
   "metadata": {},
   "source": [
    "## 3. Experimentación"
   ]
  },
  {
   "cell_type": "code",
   "execution_count": 29,
   "metadata": {},
   "outputs": [],
   "source": [
    "import pandas as pd\n",
    "import matplotlib.pyplot as plt\n",
    "import statistics as stat\n",
    "import seaborn as sns\n",
    "from imblearn.over_sampling import RandomOverSampler as oversampler\n",
    "from sklearn.model_selection import train_test_split\n",
    "from sklearn import tree\n",
    "from sklearn.metrics import f1_score as f1\n",
    "from sklearn.metrics import accuracy_score as acc\n",
    "from sklearn.metrics import precision_score as precision\n",
    "from sklearn.metrics import recall_score as recall\n",
    "from sklearn.metrics import confusion_matrix\n",
    "import math\n",
    "\n",
    "#Carga de datos y prueba con sicklearn:\n",
    "df = pd.read_csv(\"./healthcare-dataset-stroke-data.csv\")"
   ]
  },
  {
   "cell_type": "code",
   "execution_count": 30,
   "metadata": {},
   "outputs": [],
   "source": [
    "#funcion para imprimir las metricas\n",
    "def PrintMetrics(Y_train, predict):\n",
    "    print(\"Accuracy -> \"+str(acc (Y_train, predict)))\n",
    "    print(\"Precision -> \"+str(precision (Y_train, predict)))\n",
    "    print(\"Recall -> \"+str(recall (Y_train, predict)))\n",
    "    print(\"F1 -> \"+str(f1 (Y_train, predict)))\n",
    "    print(\"Matriz de Confusión:\")\n",
    "    tn, fp, fn, tp = confusion_matrix(Y_train, predict).ravel()\n",
    "    print(\"      1        0\")\n",
    "    print(\" 1    {:<8} {:<8} \".format(tp, fp))\n",
    "    print(\" 0    {:<8} {:<8} \".format(fn, tn))"
   ]
  },
  {
   "cell_type": "code",
   "execution_count": 31,
   "metadata": {},
   "outputs": [],
   "source": [
    "#modificamos los enumerados a valores reales discretos\n",
    "\n",
    "df['ever_married'] = df['ever_married'].replace(['Yes', 'No'], [1,0])\n",
    "df['gender'] = df['gender'].replace(['Male', 'Female', 'Other'], [0,1,2])\n",
    "df['work_type'] = df['work_type'].replace(['Private', 'Self-employed', 'Govt_job', 'children', 'Never_worked'], [0,1,2,3,4])\n",
    "df['Residence_type'] = df['Residence_type'].replace(['Urban', 'Rural'], [1,0])\n",
    "df['smoking_status'] = df['smoking_status'].replace(['formerly smoked', 'never smoked', 'smokes', 'Unknown'], [0,1,2,3])\n",
    "del df[\"id\"] #el id no puede ir ya que hace sobreajuste\n"
   ]
  },
  {
   "cell_type": "code",
   "execution_count": 32,
   "metadata": {},
   "outputs": [],
   "source": [
    "import g02_l2_core\n",
    "import numpy as np\n",
    "dfGlobal = df.copy()\n",
    "#1022 test size porque es el 20%, 5110 datos en total\n",
    "df_train, df_test = train_test_split(dfGlobal, test_size=0.2, random_state=42)\n",
    "\n",
    "#en el conjunto de entrenamiento, cambiamos los valores null por la media\n",
    "media = df_train['bmi'].median()\n",
    "df_train['bmi'] = df_train['bmi'].replace(['N/A'], [media])\n",
    "df_train['bmi'] = df_train['bmi'].fillna(media)\n"
   ]
  },
  {
   "cell_type": "code",
   "execution_count": 33,
   "metadata": {},
   "outputs": [
    {
     "name": "stdout",
     "output_type": "stream",
     "text": [
      "Accuracy -> 0.9344422700587084\n",
      "Precision -> 0.14285714285714285\n",
      "Recall -> 0.016129032258064516\n",
      "F1 -> 0.028985507246376815\n",
      "Matriz de Confusión:\n",
      "      1        0\n",
      " 1    1        6        \n",
      " 0    61       954      \n"
     ]
    }
   ],
   "source": [
    "#Prueba con 7 niveles\n",
    "maxTreeLevels = 7\n",
    "ID3_tree = g02_l2_core.ID3_DecisionTree(df_train, maxTreeLevels)\n",
    "g02_l2_core.SaveId3Tree(f\"G02_ID3_tree_{maxTreeLevels}.txt\", ID3_tree)\n",
    "\n",
    "predict = g02_l2_core.TestID3Tree(df_test, ID3_tree)\n",
    "PrintMetrics(df_test['stroke'].values, predict)\n",
    "\n"
   ]
  },
  {
   "cell_type": "code",
   "execution_count": 34,
   "metadata": {},
   "outputs": [
    {
     "name": "stdout",
     "output_type": "stream",
     "text": [
      "Accuracy -> 0.9315068493150684\n",
      "Precision -> 0.21428571428571427\n",
      "Recall -> 0.04838709677419355\n",
      "F1 -> 0.07894736842105263\n",
      "Matriz de Confusión:\n",
      "      1        0\n",
      " 1    3        11       \n",
      " 0    59       949      \n"
     ]
    }
   ],
   "source": [
    "#Prueba con 10 niveles\n",
    "maxTreeLevels = 10\n",
    "ID3_tree = g02_l2_core.ID3_DecisionTree(df_train, maxTreeLevels)\n",
    "g02_l2_core.SaveId3Tree(f\"G02_ID3_tree_{maxTreeLevels}.txt\", ID3_tree)\n",
    "\n",
    "predict = g02_l2_core.TestID3Tree(df_test, ID3_tree)\n",
    "PrintMetrics(df_test['stroke'].values, predict)"
   ]
  },
  {
   "cell_type": "code",
   "execution_count": 35,
   "metadata": {},
   "outputs": [
    {
     "name": "stdout",
     "output_type": "stream",
     "text": [
      "Accuracy -> 0.9315068493150684\n",
      "Precision -> 0.21428571428571427\n",
      "Recall -> 0.04838709677419355\n",
      "F1 -> 0.07894736842105263\n",
      "Matriz de Confusión:\n",
      "      1        0\n",
      " 1    3        11       \n",
      " 0    59       949      \n"
     ]
    }
   ],
   "source": [
    "#Prueba con el maximo de niveles\n",
    "ID3_tree = g02_l2_core.ID3_DecisionTree(df_train, None)\n",
    "g02_l2_core.SaveId3Tree(f\"G02_ID3_tree_{maxTreeLevels}.txt\", ID3_tree)\n",
    "\n",
    "predict = g02_l2_core.TestID3Tree(df_test, ID3_tree)\n",
    "PrintMetrics(df_test['stroke'].values, predict)"
   ]
  },
  {
   "cell_type": "markdown",
   "metadata": {},
   "source": [
    "Parte C "
   ]
  },
  {
   "cell_type": "code",
   "execution_count": 36,
   "metadata": {},
   "outputs": [],
   "source": [
    "dfDistribuida = df.copy()"
   ]
  },
  {
   "cell_type": "code",
   "execution_count": 37,
   "metadata": {},
   "outputs": [
    {
     "data": {
      "image/png": "[encoded data removed]",
      "text/plain": [
       "<Figure size 432x288 with 1 Axes>"
      ]
     },
     "metadata": {
      "needs_background": "light"
     },
     "output_type": "display_data"
    },
    {
     "data": {
      "image/png": "[encoded data removed]",
      "text/plain": [
       "<Figure size 432x288 with 1 Axes>"
      ]
     },
     "metadata": {
      "needs_background": "light"
     },
     "output_type": "display_data"
    }
   ],
   "source": [
    "\n",
    "#distribucion del stroke\n",
    "sns.countplot(data = dfDistribuida, x=\"stroke\")\n",
    "plt.show()\n",
    "ros = oversampler(random_state=42)\n",
    "X = dfDistribuida[[\"gender\", \"age\", \"hypertension\", \"heart_disease\", \"ever_married\", \"work_type\", \"Residence_type\",\n",
    "        \"avg_glucose_level\", \"bmi\", \"smoking_status\"]]\n",
    "Y = dfDistribuida.stroke\n",
    "X, Y = ros.fit_resample(X,Y)\n",
    "dfDistribuida = X\n",
    "dfDistribuida[\"stroke\"] = Y\n",
    "\n",
    "sns.countplot(data = dfDistribuida, x=\"stroke\")\n",
    "plt.show()\n"
   ]
  },
  {
   "cell_type": "code",
   "execution_count": 38,
   "metadata": {},
   "outputs": [
    {
     "name": "stdout",
     "output_type": "stream",
     "text": [
      "Accuracy -> 0.8344473007712082\n",
      "Precision -> 0.78125\n",
      "Recall -> 0.9278350515463918\n",
      "F1 -> 0.8482563619227144\n",
      "Matriz de Confusión:\n",
      "      1        0\n",
      " 1    900      252      \n",
      " 0    70       723      \n"
     ]
    }
   ],
   "source": [
    "df_train, df_test = train_test_split(dfDistribuida, test_size=0.2, random_state=42)\n",
    "\n",
    "#en el conjunto de entrenamiento, cambiamos los valores null por la media\n",
    "media = df_train['bmi'].median()\n",
    "df_train['bmi'] = df_train['bmi'].replace(['N/A'], [media])\n",
    "df_train['bmi'] = df_train['bmi'].fillna(media)\n",
    "\n",
    "#Prueba con maximo niveles\n",
    "ID3_tree = g02_l2_core.ID3_DecisionTree(df_train, None)\n",
    "g02_l2_core.SaveId3Tree(f\"G02_ID3_tree_{maxTreeLevels}.txt\", ID3_tree)\n",
    "\n",
    "predict = g02_l2_core.TestID3Tree(df_test, ID3_tree)\n",
    "PrintMetrics(df_test['stroke'].values, predict)"
   ]
  },
  {
   "cell_type": "markdown",
   "metadata": {},
   "source": [
    "Comparacion con sklearn"
   ]
  },
  {
   "cell_type": "code",
   "execution_count": null,
   "metadata": {},
   "outputs": [],
   "source": [
    "dfSkLearn = df.copy()"
   ]
  },
  {
   "cell_type": "code",
   "execution_count": 42,
   "metadata": {},
   "outputs": [],
   "source": [
    "#Comparacion con sklearn\n",
    "#prueba con el algoritmo de sklearn\n",
    "\n",
    "#sklearn no soporta nan, entonces como son pocos, optamos por ponerles tambien la media para estas pruebas\n",
    "media = dfSkLearn['bmi'].median()\n",
    "dfSkLearn['bmi'] = dfSkLearn['bmi'].replace(['N/A'], [media])\n",
    "dfSkLearn['bmi'] = dfSkLearn['bmi'].fillna(media)\n",
    "\n",
    "\n",
    "X = dfSkLearn[[\"gender\", \"age\", \"hypertension\", \"heart_disease\", \"ever_married\", \"work_type\", \"Residence_type\",\n",
    "        \"avg_glucose_level\", \"bmi\", \"smoking_status\"]]\n",
    "Y = dfSkLearn.stroke\n",
    "X_train, X_test, Y_train, Y_test = train_test_split(X, Y, test_size=0.2, random_state=42)\n",
    "\n",
    "dt_clf = tree.DecisionTreeClassifier(criterion=\"entropy\")\n",
    "dt_clf = dt_clf.fit(X_train, Y_train)\n",
    "Y_pred = dt_clf.predict(X_test)\n",
    "\n",
    "PrintMetrics(Y_train, Y_pred)\n"
   ]
  },
  {
   "cell_type": "markdown",
   "metadata": {},
   "source": [
    "- Presentar los distintos experimentos que se realizan y los resultados que se obtienen.\n",
    "\n",
    "- La información de los resultados se presenta en tablas y en gráficos, de acuerdo a su naturaleza. Por ejemplo:\n",
    "\n",
    "_En la gráfica 1, se observa el error cuadrático total del conjunto de entrenamiento a medida que pasan los juegos para el oponente X_"
   ]
  },
  {
   "cell_type": "code",
   "execution_count": null,
   "metadata": {},
   "outputs": [],
   "source": [
    "import matplotlib.pyplot\n",
    "matplotlib.pyplot.plot(range(0,100), [2**-(x/10) for x in range(0,100)])"
   ]
  },
  {
   "cell_type": "markdown",
   "metadata": {},
   "source": [
    "\n",
    "- Debe existir alguna instancia donde se compile la información relevante de los experimentos de forma de poder comparar fácilmente los distintos experimentos. Por ejemplo:\n",
    "\n",
    "_En la tabla 1, se presentan los distintos resultados contra el jugador aleatorio, para los distintos valores de $\\alpha$ elegidos. El mejor resultado se obtiene para $\\alpha=0.05$, lo que prueba que la estrategia..._\n",
    "\n",
    "<table>\n",
    "  <tr>\n",
    "    <th>$\\alpha$</th>\n",
    "    <th>...</th>\n",
    "    <th>Turnos</th>\n",
    "    <th>Error</th>\n",
    "  </tr>\n",
    "  <tr>\n",
    "    <td>0.001</td>\n",
    "    <td>...</td>\n",
    "    <td>100</td>\n",
    "    <td>0.991</td>\n",
    "  </tr>    \n",
    "  <tr>\n",
    "    <td>0.005</td>\n",
    "    <td>...</td>\n",
    "    <td>100</td>\n",
    "    <td>0.987</td>\n",
    "  </tr>\n",
    "  <tr style=\"font-weight:bold\">\n",
    "    <td>0.05</td>\n",
    "    <td>...</td>\n",
    "    <td>100</td>\n",
    "    <td>0.329</td>\n",
    "  </tr>\n",
    "  <tr>\n",
    "    <td>0.5</td>\n",
    "    <td>...</td>\n",
    "    <td>100</td>\n",
    "    <td>0.564</td>\n",
    "  </tr>    \n",
    "    <caption>Tabla 1 - Entrenamiento del jugador X para distintos valores de $\\alpha$</caption>\n",
    "</table>\n"
   ]
  },
  {
   "cell_type": "markdown",
   "metadata": {},
   "source": [
    "## 4. Conclusión"
   ]
  },
  {
   "cell_type": "markdown",
   "metadata": {},
   "source": [
    "Una breve conclusión del trabajo realizado. Por ejemplo: \n",
    "- ¿cuándo se dieron los mejores resultados del jugador?\n",
    "- ¿encuentra alguna relación con los parámetros / oponentes/ atributos elegidos?\n",
    "- ¿cómo mejoraría los resultados?"
   ]
  },
  {
   "cell_type": "code",
   "execution_count": null,
   "metadata": {},
   "outputs": [],
   "source": []
  },
  {
   "cell_type": "code",
   "execution_count": null,
   "metadata": {},
   "outputs": [],
   "source": []
  }
 ],
 "metadata": {
  "kernelspec": {
   "display_name": "Python 3.10.6 64-bit",
   "language": "python",
   "name": "python3"
  },
  "language_info": {
   "codemirror_mode": {
    "name": "ipython",
    "version": 3
   },
   "file_extension": ".py",
   "mimetype": "text/x-python",
   "name": "python",
   "nbconvert_exporter": "python",
   "pygments_lexer": "ipython3",
   "version": "3.10.6"
  },
  "vscode": {
   "interpreter": {
    "hash": "b91e75ecf58b5a6634cf00da16aa84c65e4ecc8652670cacf5a34b50a804f10a"
   }
  }
 },
 "nbformat": 4,
 "nbformat_minor": 4
}
